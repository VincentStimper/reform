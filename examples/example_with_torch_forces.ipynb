{
 "cells": [
  {
   "cell_type": "code",
   "execution_count": null,
   "id": "integral-fellowship",
   "metadata": {},
   "outputs": [],
   "source": [
    "# --- useful when the package is not yet installed\n",
    "import sys\n",
    "sys.path.insert(0, \"../\")\n",
    "# ---\n",
    "\n",
    "# imports\n",
    "from reform import simu_utils\n",
    "from simtk.openmm import app\n",
    "from simtk import unit\n",
    "import numpy as np"
   ]
  },
  {
   "cell_type": "code",
   "execution_count": null,
   "id": "married-albania",
   "metadata": {},
   "outputs": [],
   "source": [
    "# simulation setup\n",
    "interface = \"replicated_system\" # can be \"single_threaded\" or \"replicated_system\"\n",
    "pdb_path = \"../reform/tests/spep_0000.pdb\"\n",
    "\n",
    "loading_NN_force = True\n",
    "NN_model_path = \"../reform/tests/central.pt\"\n",
    "\n",
    "TIME_STEP = 2   # in fs\n",
    "SIMU_TIME = 50  # in ps\n",
    "RECORDING_INTERVAL = 1   # in ps\n",
    "EXCHANGE_INTERVAL = 0.2  # in ps; or 0. when you don't need the exchanges\n",
    "\n",
    "temps_intended = [300., 350.] # in K\n",
    "\n",
    "OUTPUT_PATH = \"/tmp/00100.npy\"\n",
    "CHECKPOINT_PATH = \"/tmp/00100.npz\""
   ]
  },
  {
   "cell_type": "code",
   "execution_count": null,
   "id": "banned-daughter",
   "metadata": {},
   "outputs": [],
   "source": [
    "# prepare the MultiTSimulation\n",
    "n_replicas = len(temps_intended)\n",
    "\n",
    "# --- routinary OpenMM system setup, here it's for a vacuum system of ala2\n",
    "pdb = app.PDBFile(pdb_path)\n",
    "ff = app.ForceField(\"amber99sbildn.xml\")\n",
    "system = ff.createSystem(pdb.topology, nonbondedMethod=app.NoCutoff, constraints=app.HBonds,\n",
    "                         hydrogenMass=4 * unit.amu)\n",
    "integrator_params = {\"integrator\": \"Langevin\", \"friction_in_inv_ps\": 1.0, \"time_step_in_fs\": 2.0}\n",
    "# ---\n",
    "\n",
    "# loading the OpenMM-Torch plugin\n",
    "try:\n",
    "    from openmmtorch import TorchForce\n",
    "    openmmtorch_loaded = True\n",
    "except ImportError as e:\n",
    "    print(\"Warning: no openmm-torch module found. NN model is not loaded.\")\n",
    "    openmmtorch_loaded = False\n",
    "\n",
    "# --- setting up the simulation ---\n",
    "if loading_NN_force and openmmtorch_loaded:\n",
    "    # load torch force\n",
    "    f = TorchForce(MODEL_PATH)\n",
    "    # this difference is caused by the plugin design.\n",
    "    # Not solvable from the `reform` side.\n",
    "    if interface == \"single_threaded\":\n",
    "        system.addForce(f)\n",
    "        simu = simu_utils.MultiTSimulation(system, temps_intended, interface=interface, platform=\"CUDA\",\n",
    "                                           integrator_params=integrator_params, verbose=False)\n",
    "    elif interface == \"replicated_system\":\n",
    "        simu = simu_utils.MultiTSimulation(system, temps_intended, replicated_system_additional_forces=[f],\n",
    "                                           interface=interface, platform=\"CUDA\",\n",
    "                                           integrator_params=integrator_params, verbose=False)\n",
    "else:\n",
    "    simu = simu_utils.MultiTSimulation(system, temps_intended, interface=interface,\n",
    "                                       integrator_params=integrator_params, verbose=False)\n",
    "\n",
    "simu.set_positions([pdb.getPositions()] * n_replicas)\n",
    "simu.minimize_energy()\n",
    "simu.set_velocities_to_temp()\n",
    "simu.run(2000)  # pre-equilibration\n",
    "_ = simu.reset_step_counter()"
   ]
  },
  {
   "cell_type": "code",
   "execution_count": null,
   "id": "optional-egypt",
   "metadata": {},
   "outputs": [],
   "source": [
    "# install the simulation hooks for recording and exchange\n",
    "simu_steps = simu_utils.recording_hook_setup(simu=simu, simu_time=SIMU_TIME,\n",
    "                                             recording_interval=RECORDING_INTERVAL,\n",
    "                                             output_path=OUTPUT_PATH,\n",
    "                                             exchange_interval=EXCHANGE_INTERVAL)"
   ]
  },
  {
   "cell_type": "code",
   "execution_count": null,
   "id": "second-month",
   "metadata": {},
   "outputs": [],
   "source": [
    "# a timed run\n",
    "from timeit import default_timer as timer\n",
    "start = timer()\n",
    "simu.run(int(simu_steps / 2))\n",
    "stop = timer()\n",
    "print(\"Production run of 25 ps takes {:.2f} seconds.\".format(stop - start))"
   ]
  },
  {
   "cell_type": "code",
   "execution_count": null,
   "id": "nasty-dressing",
   "metadata": {},
   "outputs": [],
   "source": [
    "# example of saving and loading checkpoints\n",
    "simu.save_chkpt(CHECKPOINT_PATH)\n",
    "simu.load_chkpt(CHECKPOINT_PATH)"
   ]
  },
  {
   "cell_type": "code",
   "execution_count": null,
   "id": "conditional-victim",
   "metadata": {},
   "outputs": [],
   "source": [
    "# finishing the reset from loaded state\n",
    "simu.run(simu_steps - int(simu_steps / 2))"
   ]
  },
  {
   "cell_type": "code",
   "execution_count": null,
   "id": "alleged-income",
   "metadata": {},
   "outputs": [],
   "source": [
    "# saving the traj\n",
    "simu.save()"
   ]
  },
  {
   "cell_type": "code",
   "execution_count": null,
   "id": "forty-atlas",
   "metadata": {},
   "outputs": [],
   "source": [
    "# check the output npy file\n",
    "# dimensions [N_replicas, N_frames, N_atoms, N_dims=3]\n",
    "np.load(OUTPUT_PATH).shape"
   ]
  },
  {
   "cell_type": "code",
   "execution_count": null,
   "id": "excellent-gender",
   "metadata": {},
   "outputs": [],
   "source": []
  }
 ],
 "metadata": {
  "kernelspec": {
   "display_name": "Python 3",
   "language": "python",
   "name": "python3"
  },
  "language_info": {
   "codemirror_mode": {
    "name": "ipython",
    "version": 3
   },
   "file_extension": ".py",
   "mimetype": "text/x-python",
   "name": "python",
   "nbconvert_exporter": "python",
   "pygments_lexer": "ipython3",
   "version": "3.8.8"
  }
 },
 "nbformat": 4,
 "nbformat_minor": 5
}
